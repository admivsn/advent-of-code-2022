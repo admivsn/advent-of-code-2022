{
 "cells": [
  {
   "cell_type": "code",
   "execution_count": 115,
   "metadata": {},
   "outputs": [],
   "source": [
    "import os\n",
    "import pandas as pd"
   ]
  },
  {
   "cell_type": "code",
   "execution_count": 116,
   "metadata": {},
   "outputs": [],
   "source": [
    "# Load data from advent of code into a dataframe\n",
    "url = \"https://adventofcode.com/2022/day/3/input\"\n",
    "headers = {\"Cookie\": os.environ[\"AOC_COOKIE_01\"]}\n",
    "df = pd.read_csv(url, storage_options=headers, sep=\" \", names=[\"raw\"])"
   ]
  },
  {
   "cell_type": "markdown",
   "metadata": {},
   "source": [
    "Part 1:"
   ]
  },
  {
   "cell_type": "code",
   "execution_count": 117,
   "metadata": {},
   "outputs": [],
   "source": [
    "# Split the raw strings in half\n",
    "df[\"half\"] = df[\"raw\"].str.len() // 2\n",
    "df[\"splits\"] = df.apply(lambda x: (x[\"raw\"][:x[\"half\"]], x[\"raw\"][x[\"half\"]:]), axis=1)"
   ]
  },
  {
   "cell_type": "code",
   "execution_count": 118,
   "metadata": {},
   "outputs": [],
   "source": [
    "# Figure out which character is repeated in both halves\n",
    "df[\"repeat\"] = df[\"splits\"].apply(lambda x: tuple(set(x[0]) & set(x[1]))[0])"
   ]
  },
  {
   "cell_type": "code",
   "execution_count": 119,
   "metadata": {},
   "outputs": [
    {
     "data": {
      "text/plain": [
       "7568"
      ]
     },
     "execution_count": 119,
     "metadata": {},
     "output_type": "execute_result"
    }
   ],
   "source": [
    "# Sum it's index (a = 1, ..., z = 26, A = 27, ..., Z = 52)\n",
    "df[\"repeat\"].apply(lambda x: ord(x.lower()) - 96 + (26 if x.isupper() else 0)).sum()"
   ]
  },
  {
   "cell_type": "markdown",
   "metadata": {},
   "source": [
    "Part 2:"
   ]
  },
  {
   "cell_type": "code",
   "execution_count": 120,
   "metadata": {},
   "outputs": [],
   "source": [
    "# Split into groups of 3 and find the character that is repeated throughout each group\n",
    "df[\"group\"] = df.index // 3\n",
    "df[\"raw\"] = df[\"raw\"].apply(set)\n",
    "df_group = df.groupby(\"group\")[\"raw\"].agg(lambda x: tuple(set.intersection(*list(x)))[0])"
   ]
  },
  {
   "cell_type": "code",
   "execution_count": 121,
   "metadata": {},
   "outputs": [
    {
     "data": {
      "text/plain": [
       "2780"
      ]
     },
     "execution_count": 121,
     "metadata": {},
     "output_type": "execute_result"
    }
   ],
   "source": [
    "# Sum it's index (a = 1, ..., z = 26, A = 27, ..., Z = 52)\n",
    "df_group.apply(lambda x: ord(x.lower()) - 96 + (26 if x.isupper() else 0)).sum()"
   ]
  }
 ],
 "metadata": {
  "kernelspec": {
   "display_name": "Python 3.10.4 64-bit",
   "language": "python",
   "name": "python3"
  },
  "language_info": {
   "codemirror_mode": {
    "name": "ipython",
    "version": 3
   },
   "file_extension": ".py",
   "mimetype": "text/x-python",
   "name": "python",
   "nbconvert_exporter": "python",
   "pygments_lexer": "ipython3",
   "version": "3.10.4"
  },
  "orig_nbformat": 4,
  "vscode": {
   "interpreter": {
    "hash": "3ad933181bd8a04b432d3370b9dc3b0662ad032c4dfaa4e4f1596c548f763858"
   }
  }
 },
 "nbformat": 4,
 "nbformat_minor": 2
}
