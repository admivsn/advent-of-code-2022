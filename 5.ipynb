{
 "cells": [
  {
   "cell_type": "code",
   "execution_count": 65,
   "metadata": {},
   "outputs": [],
   "source": [
    "import requests\n",
    "import os"
   ]
  },
  {
   "cell_type": "code",
   "execution_count": 66,
   "metadata": {},
   "outputs": [],
   "source": [
    "# Load data from advent of code\n",
    "url = \"https://adventofcode.com/2022/day/5/input\"\n",
    "headers = {\"Cookie\": os.environ[\"AOC_COOKIE_01\"]}\n",
    "r = requests.get(url, headers=headers)"
   ]
  },
  {
   "cell_type": "code",
   "execution_count": 67,
   "metadata": {},
   "outputs": [],
   "source": [
    "# Split into stacks and procedure\n",
    "stacks, procedure = r.text.split(\"\\n\\n\")"
   ]
  },
  {
   "cell_type": "code",
   "execution_count": 68,
   "metadata": {},
   "outputs": [],
   "source": [
    "# Parse procedure lines into a list\n",
    "procedure = [[int(i) for i in i.split(\" \") if i.isnumeric()] for i in procedure.split(\"\\n\")][:-1]"
   ]
  },
  {
   "cell_type": "code",
   "execution_count": 69,
   "metadata": {},
   "outputs": [],
   "source": [
    "# Parse stacks into a dictionary of lists\n",
    "stacks = [[s[i:i+4] for i in range(0, len(s), 4)] for s in stacks.split(\"\\n\")]\n",
    "stacks = map(list, zip(*stacks[::-1]))\n",
    "stacks = {int(s[0]): [c.strip() for c in s[1:] if c.strip()] for s in stacks}"
   ]
  },
  {
   "cell_type": "markdown",
   "metadata": {},
   "source": [
    "Part 1:"
   ]
  },
  {
   "cell_type": "code",
   "execution_count": 70,
   "metadata": {},
   "outputs": [],
   "source": [
    "# Move em\n",
    "stacks_1 = {k: v.copy() for k, v in stacks.items()}\n",
    "for [n_, frm, to] in procedure:\n",
    "    for n in range(n_):\n",
    "        stacks_1[to].append(stacks_1[frm].pop())"
   ]
  },
  {
   "cell_type": "code",
   "execution_count": 71,
   "metadata": {},
   "outputs": [
    {
     "data": {
      "text/plain": [
       "'BWNCQRMDB'"
      ]
     },
     "execution_count": 71,
     "metadata": {},
     "output_type": "execute_result"
    }
   ],
   "source": [
    "# Pull off the top of each stack as a string\n",
    "\"\".join([s[-1][1] for s in stacks_1.values()])"
   ]
  },
  {
   "cell_type": "markdown",
   "metadata": {},
   "source": [
    "Part 2:"
   ]
  },
  {
   "cell_type": "code",
   "execution_count": 72,
   "metadata": {},
   "outputs": [],
   "source": [
    "# Move em\n",
    "stacks_2 = {k: v.copy() for k, v in stacks.items()}\n",
    "for [n, frm, to] in procedure:\n",
    "    stacks_2[to] += stacks_2[frm][-n:]\n",
    "    stacks_2[frm] = stacks_2[frm][:-n]"
   ]
  },
  {
   "cell_type": "code",
   "execution_count": 73,
   "metadata": {},
   "outputs": [
    {
     "data": {
      "text/plain": [
       "'NHWZCBNBF'"
      ]
     },
     "execution_count": 73,
     "metadata": {},
     "output_type": "execute_result"
    }
   ],
   "source": [
    "# Pull off the top of each stack as a string\n",
    "\"\".join([s[-1][1] for s in stacks_2.values()])"
   ]
  }
 ],
 "metadata": {
  "kernelspec": {
   "display_name": "Python 3.10.4 64-bit",
   "language": "python",
   "name": "python3"
  },
  "language_info": {
   "codemirror_mode": {
    "name": "ipython",
    "version": 3
   },
   "file_extension": ".py",
   "mimetype": "text/x-python",
   "name": "python",
   "nbconvert_exporter": "python",
   "pygments_lexer": "ipython3",
   "version": "3.10.4"
  },
  "orig_nbformat": 4,
  "vscode": {
   "interpreter": {
    "hash": "3ad933181bd8a04b432d3370b9dc3b0662ad032c4dfaa4e4f1596c548f763858"
   }
  }
 },
 "nbformat": 4,
 "nbformat_minor": 2
}
