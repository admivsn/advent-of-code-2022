{
 "cells": [
  {
   "cell_type": "code",
   "execution_count": 1,
   "metadata": {},
   "outputs": [],
   "source": [
    "import requests\n",
    "import os"
   ]
  },
  {
   "cell_type": "code",
   "execution_count": 2,
   "metadata": {},
   "outputs": [],
   "source": [
    "# Load data from advent of code\n",
    "url = \"https://adventofcode.com/2022/day/7/input\"\n",
    "headers = {\"Cookie\": os.environ[\"AOC_COOKIE_01\"]}\n",
    "r = requests.get(url, headers=headers)"
   ]
  },
  {
   "cell_type": "code",
   "execution_count": 3,
   "metadata": {},
   "outputs": [],
   "source": [
    "# Parse the commands\n",
    "cmds = [c for c in r.text.split(\"\\n\")][:-1]"
   ]
  },
  {
   "cell_type": "code",
   "execution_count": 4,
   "metadata": {},
   "outputs": [],
   "source": [
    "# Initialise\n",
    "dirs = {\"/\": {}} # directory structure to populate\n",
    "cd = [\"/\"] # keys to current directory at any given point\n",
    "dirs_set = set(tuple(cd)) # unique directory keys\n",
    "\n",
    "# Recursive function to filter a dict based on a list of keys\n",
    "def dict_path(d, p):\n",
    "    return d[p[0]] if len(p) == 1 else dict_path(d[p[0]], p[1:])\n",
    "\n",
    "# Recursive function to sum the size of a directory\n",
    "def dir_size(d):\n",
    "    return sum(dir_size(v) if isinstance(v, dict) else v for v in d.values())\n",
    "\n",
    "# Loop over the commands\n",
    "for c in cmds:\n",
    "    # Change directory\n",
    "    if c[:4] == \"$ cd\":\n",
    "        match c:\n",
    "            case \"$ cd /\":\n",
    "                cd = [\"/\"]\n",
    "            case \"$ cd ..\":\n",
    "                cd.pop()\n",
    "            case _:\n",
    "                cd.append(c[5:])\n",
    "                dirs_set.add(tuple(cd))\n",
    "        \n",
    "    # Add file or directory \n",
    "    elif c != \"$ ls\":\n",
    "        s, n = c.split(\" \")\n",
    "        dict_path(dirs, cd)[n] = int(s) if s != \"dir\" else {} "
   ]
  },
  {
   "cell_type": "code",
   "execution_count": 5,
   "metadata": {},
   "outputs": [
    {
     "data": {
      "text/plain": [
       "1583951"
      ]
     },
     "execution_count": 5,
     "metadata": {},
     "output_type": "execute_result"
    }
   ],
   "source": [
    "# Part 1:\n",
    "dir_sizes = [dir_size(dict_path(dirs, p)) for p in dirs_set] \n",
    "sum([x for x in dir_sizes if x <= 1e5])"
   ]
  },
  {
   "cell_type": "code",
   "execution_count": 6,
   "metadata": {},
   "outputs": [
    {
     "data": {
      "text/plain": [
       "214171"
      ]
     },
     "execution_count": 6,
     "metadata": {},
     "output_type": "execute_result"
    }
   ],
   "source": [
    "# Part 2:\n",
    "min([x for x in dir_sizes if x > 3e7 - (7e7 - max(dir_sizes))])"
   ]
  }
 ],
 "metadata": {
  "kernelspec": {
   "display_name": "Python 3.10.4 64-bit",
   "language": "python",
   "name": "python3"
  },
  "language_info": {
   "codemirror_mode": {
    "name": "ipython",
    "version": 3
   },
   "file_extension": ".py",
   "mimetype": "text/x-python",
   "name": "python",
   "nbconvert_exporter": "python",
   "pygments_lexer": "ipython3",
   "version": "3.10.4"
  },
  "orig_nbformat": 4,
  "vscode": {
   "interpreter": {
    "hash": "3ad933181bd8a04b432d3370b9dc3b0662ad032c4dfaa4e4f1596c548f763858"
   }
  }
 },
 "nbformat": 4,
 "nbformat_minor": 2
}
