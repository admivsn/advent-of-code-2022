{
 "cells": [
  {
   "cell_type": "code",
   "execution_count": 1,
   "metadata": {},
   "outputs": [],
   "source": [
    "import os\n",
    "import pandas as pd"
   ]
  },
  {
   "cell_type": "code",
   "execution_count": 2,
   "metadata": {},
   "outputs": [],
   "source": [
    "# Load data from advent of code into a dataframe\n",
    "url = \"https://adventofcode.com/2022/day/2/input\"\n",
    "headers = {\"Cookie\": os.environ[\"AOC_COOKIE_01\"]}\n",
    "df = pd.read_csv(url, storage_options=headers, sep=\" \", names=[\"opp\", \"me\"])"
   ]
  },
  {
   "cell_type": "markdown",
   "metadata": {},
   "source": [
    "Part 1:"
   ]
  },
  {
   "cell_type": "code",
   "execution_count": 3,
   "metadata": {},
   "outputs": [],
   "source": [
    "# Add a column with the outcome score\n",
    "WINS = [\"AY\", \"BZ\", \"CX\"]\n",
    "DRAWS = [\"AX\", \"BY\", \"CZ\"]\n",
    "df[\"outcome_score\"] = df[[\"opp\", \"me\"]].astype(str).sum(axis=1).map({w: 6 for w in WINS} | {d: 3 for d in DRAWS})"
   ]
  },
  {
   "cell_type": "code",
   "execution_count": 4,
   "metadata": {},
   "outputs": [],
   "source": [
    "# Add column with the selection score\n",
    "SELECTION_SCORE = {\n",
    "    \"X\": 1,\n",
    "    \"Y\": 2,\n",
    "    \"Z\": 3,\n",
    "}\n",
    "df[\"selection_score\"] = df[\"me\"].map(SELECTION_SCORE)"
   ]
  },
  {
   "cell_type": "code",
   "execution_count": 5,
   "metadata": {},
   "outputs": [
    {
     "data": {
      "text/plain": [
       "13682.0"
      ]
     },
     "execution_count": 5,
     "metadata": {},
     "output_type": "execute_result"
    }
   ],
   "source": [
    "# Sum to get the total score\n",
    "df.sum(numeric_only=True).sum()"
   ]
  },
  {
   "cell_type": "markdown",
   "metadata": {},
   "source": [
    "Part 2:"
   ]
  },
  {
   "cell_type": "code",
   "execution_count": 6,
   "metadata": {},
   "outputs": [],
   "source": [
    "# Map the outcome score again for wins and draws\n",
    "df[\"outcome_score\"] = df[\"me\"].map({\"Z\": 6, \"Y\": 3})"
   ]
  },
  {
   "cell_type": "code",
   "execution_count": 7,
   "metadata": {},
   "outputs": [],
   "source": [
    "# Map the selection score again by working backwards from the outcome\n",
    "MAP = {\n",
    "    \"X\": [\"AZ\", \"BX\", \"CY\"],\n",
    "    \"Y\": DRAWS,\n",
    "    \"Z\": WINS\n",
    "}\n",
    "df[\"selection_score\"] = df.apply(\n",
    "    lambda x: SELECTION_SCORE[[m[1] for m in MAP[x[\"me\"]] if m[0] == x[\"opp\"]][0]], \n",
    "    axis=1\n",
    ")"
   ]
  },
  {
   "cell_type": "code",
   "execution_count": 8,
   "metadata": {},
   "outputs": [
    {
     "data": {
      "text/plain": [
       "12881.0"
      ]
     },
     "execution_count": 8,
     "metadata": {},
     "output_type": "execute_result"
    }
   ],
   "source": [
    "# Sum to get the total score\n",
    "df.sum(numeric_only=True).sum()"
   ]
  }
 ],
 "metadata": {
  "kernelspec": {
   "display_name": "Python 3.10.4 64-bit",
   "language": "python",
   "name": "python3"
  },
  "language_info": {
   "codemirror_mode": {
    "name": "ipython",
    "version": 3
   },
   "file_extension": ".py",
   "mimetype": "text/x-python",
   "name": "python",
   "nbconvert_exporter": "python",
   "pygments_lexer": "ipython3",
   "version": "3.10.4"
  },
  "orig_nbformat": 4,
  "vscode": {
   "interpreter": {
    "hash": "3ad933181bd8a04b432d3370b9dc3b0662ad032c4dfaa4e4f1596c548f763858"
   }
  }
 },
 "nbformat": 4,
 "nbformat_minor": 2
}
